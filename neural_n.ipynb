{
 "cells": [
  {
   "cell_type": "code",
   "execution_count": 2,
   "metadata": {},
   "outputs": [
    {
     "name": "stderr",
     "output_type": "stream",
     "text": [
      "D:\\Anaconda3\\lib\\site-packages\\ipykernel_launcher.py:14: SettingWithCopyWarning: \n",
      "A value is trying to be set on a copy of a slice from a DataFrame.\n",
      "Try using .loc[row_indexer,col_indexer] = value instead\n",
      "\n",
      "See the caveats in the documentation: http://pandas.pydata.org/pandas-docs/stable/indexing.html#indexing-view-versus-copy\n",
      "  \n",
      "D:\\Anaconda3\\lib\\site-packages\\ipykernel_launcher.py:15: SettingWithCopyWarning: \n",
      "A value is trying to be set on a copy of a slice from a DataFrame.\n",
      "Try using .loc[row_indexer,col_indexer] = value instead\n",
      "\n",
      "See the caveats in the documentation: http://pandas.pydata.org/pandas-docs/stable/indexing.html#indexing-view-versus-copy\n",
      "  from ipykernel import kernelapp as app\n",
      "D:\\Anaconda3\\lib\\site-packages\\ipykernel_launcher.py:16: SettingWithCopyWarning: \n",
      "A value is trying to be set on a copy of a slice from a DataFrame.\n",
      "Try using .loc[row_indexer,col_indexer] = value instead\n",
      "\n",
      "See the caveats in the documentation: http://pandas.pydata.org/pandas-docs/stable/indexing.html#indexing-view-versus-copy\n",
      "  app.launch_new_instance()\n",
      "D:\\Anaconda3\\lib\\site-packages\\ipykernel_launcher.py:17: SettingWithCopyWarning: \n",
      "A value is trying to be set on a copy of a slice from a DataFrame.\n",
      "Try using .loc[row_indexer,col_indexer] = value instead\n",
      "\n",
      "See the caveats in the documentation: http://pandas.pydata.org/pandas-docs/stable/indexing.html#indexing-view-versus-copy\n"
     ]
    }
   ],
   "source": [
    "import pandas as pd\n",
    "from sklearn.preprocessing import MinMaxScaler\n",
    "from sklearn.metrics import mean_absolute_error as mae\n",
    "import numpy as np\n",
    "data = pd.read_csv('nonlinear_rg.csv')\n",
    "data.drop('date', axis = 1, inplace = True)\n",
    "\n",
    "np.random.seed(7) #для воспроизводимости результатов\n",
    "\n",
    "X = data.loc[:, 'a':'b']\n",
    "Y = data['y']\n",
    "X_train, Y_train = X[:-120], Y[:-120]\n",
    "X_test, Y_test = X[-120:], Y[-120:]\n",
    "X_train['exp(a)'] = np.exp(X_train['a'])\n",
    "X_train['sqrt(b)'] = np.sqrt(abs(X_train['b']))\n",
    "X_test['exp(a)'] = np.exp(X_test['a'])\n",
    "X_test['sqrt(b)'] = np.sqrt(abs(X_test['b']))\n",
    "scale = MinMaxScaler(feature_range=(0, 1))\n",
    "X_train = scale.fit_transform(X_train)\n",
    "X_test = scale.fit_transform(X_test)"
   ]
  },
  {
   "cell_type": "code",
   "execution_count": 1,
   "metadata": {},
   "outputs": [
    {
     "name": "stderr",
     "output_type": "stream",
     "text": [
      "Using TensorFlow backend.\n"
     ]
    }
   ],
   "source": [
    "from keras.models import Sequential, Model\n",
    "from keras.wrappers.scikit_learn import KerasRegressor\n",
    "from keras.layers import Dense\n",
    "from keras import regularizers"
   ]
  },
  {
   "cell_type": "code",
   "execution_count": null,
   "metadata": {},
   "outputs": [
    {
     "name": "stdout",
     "output_type": "stream",
     "text": [
      "Epoch 1/10\n",
      "1706/1706 [==============================] - 7s - loss: 0.9853     \n",
      "Epoch 2/10\n",
      "1706/1706 [==============================] - 3s - loss: 0.9778     \n",
      "Epoch 3/10\n",
      " 648/1706 [==========>...................] - ETA: 2s - loss: 0.9006"
     ]
    }
   ],
   "source": [
    "def reg_model():\n",
    "    model = Sequential()\n",
    "    model.add(Dense(5, input_dim = 4, kernel_initializer = 'random_normal', activation = 'relu'))\n",
    "    model.add(Dense(20,  kernel_initializer = 'random_normal', activation = 'linear', \n",
    "                    kernel_regularizer = regularizers.l2(0.01),\n",
    "                activity_regularizer = regularizers.l1(0.01),\n",
    "                   bias_regularizer = regularizers.l1_l2(0.01)\n",
    "                   ))\n",
    "    model.add(Dense(12,  kernel_initializer = 'random_normal', activation = 'linear'))\n",
    "    model.add(Dense(1,  kernel_initializer = 'random_normal', activation = 'linear'))\n",
    "    model.compile(loss = 'mean_absolute_error', optimizer = 'sgd')\n",
    "    return model\n",
    "\n",
    "model = KerasRegressor(build_fn = reg_model, epochs = 10, batch_size = 1,verbose=1)\n",
    "model.fit(X_train,Y_train)\n",
    "\n",
    "\n",
    "print('точность: ', mae(model.predict(X_test), Y_test))"
   ]
  },
  {
   "cell_type": "code",
   "execution_count": 3,
   "metadata": {},
   "outputs": [
    {
     "name": "stdout",
     "output_type": "stream",
     "text": [
      "Epoch 1/30\n",
      "1706/1706 [==============================] - 3s - loss: 0.9829     \n",
      "Epoch 2/30\n",
      "1706/1706 [==============================] - 2s - loss: 0.9766     \n",
      "Epoch 3/30\n",
      "1706/1706 [==============================] - 2s - loss: 0.9757     \n",
      "Epoch 4/30\n",
      "1706/1706 [==============================] - 2s - loss: 0.9765     \n",
      "Epoch 5/30\n",
      "1706/1706 [==============================] - 2s - loss: 0.9749     \n",
      "Epoch 6/30\n",
      "1706/1706 [==============================] - 2s - loss: 0.9767     \n",
      "Epoch 7/30\n",
      "1706/1706 [==============================] - 2s - loss: 0.9762     \n",
      "Epoch 8/30\n",
      "1706/1706 [==============================] - 2s - loss: 0.9731     \n",
      "Epoch 9/30\n",
      "1706/1706 [==============================] - 2s - loss: 0.9759     \n",
      "Epoch 10/30\n",
      "1706/1706 [==============================] - 2s - loss: 0.9747     \n",
      "Epoch 11/30\n",
      "1706/1706 [==============================] - 2s - loss: 0.9751     \n",
      "Epoch 12/30\n",
      "1706/1706 [==============================] - 2s - loss: 0.9773     \n",
      "Epoch 13/30\n",
      "1706/1706 [==============================] - 2s - loss: 0.9747     \n",
      "Epoch 14/30\n",
      "1706/1706 [==============================] - 2s - loss: 0.9763     \n",
      "Epoch 15/30\n",
      "1706/1706 [==============================] - 2s - loss: 0.9744     \n",
      "Epoch 16/30\n",
      "1706/1706 [==============================] - 2s - loss: 0.9781     \n",
      "Epoch 17/30\n",
      "1706/1706 [==============================] - 2s - loss: 0.9746     \n",
      "Epoch 18/30\n",
      "1706/1706 [==============================] - 2s - loss: 0.8396     \n",
      "Epoch 19/30\n",
      "1706/1706 [==============================] - 2s - loss: 0.3448     \n",
      "Epoch 20/30\n",
      "1706/1706 [==============================] - 2s - loss: 0.3119     \n",
      "Epoch 21/30\n",
      "1706/1706 [==============================] - 3s - loss: 0.2932     \n",
      "Epoch 22/30\n",
      "1706/1706 [==============================] - 2s - loss: 0.2526     \n",
      "Epoch 23/30\n",
      "1706/1706 [==============================] - 2s - loss: 0.2176     \n",
      "Epoch 24/30\n",
      "1706/1706 [==============================] - 2s - loss: 0.2082     \n",
      "Epoch 25/30\n",
      "1706/1706 [==============================] - 2s - loss: 0.1968     \n",
      "Epoch 26/30\n",
      "1706/1706 [==============================] - 2s - loss: 0.1961     \n",
      "Epoch 27/30\n",
      "1706/1706 [==============================] - 3s - loss: 0.1890     \n",
      "Epoch 28/30\n",
      "1706/1706 [==============================] - 2s - loss: 0.1893     \n",
      "Epoch 29/30\n",
      "1706/1706 [==============================] - 2s - loss: 0.1866     \n",
      "Epoch 30/30\n",
      "1706/1706 [==============================] - 2s - loss: 0.1874     \n",
      "точность:  0.203889434829\n",
      "_________________________________________________________________\n",
      "Layer (type)                 Output Shape              Param #   \n",
      "=================================================================\n",
      "layer1 (Dense)               (None, 5)                 25        \n",
      "_________________________________________________________________\n",
      "layer2 (Dense)               (None, 20)                120       \n",
      "_________________________________________________________________\n",
      "layer3 (Dense)               (None, 12)                252       \n",
      "_________________________________________________________________\n",
      "layer4 (Dense)               (None, 1)                 13        \n",
      "=================================================================\n",
      "Total params: 410\n",
      "Trainable params: 410\n",
      "Non-trainable params: 0\n",
      "_________________________________________________________________\n"
     ]
    }
   ],
   "source": [
    "model = Sequential()\n",
    "model.add(Dense(5, input_dim = 4, kernel_initializer = 'random_normal', activation = 'relu', name = 'layer1'))\n",
    "model.add(Dense(20,  kernel_initializer = 'random_normal', activation = 'linear', name = 'layer2'))\n",
    "model.add(Dense(12,  kernel_initializer = 'random_normal', activation = 'linear', name = 'layer3'))\n",
    "model.add(Dense(1,  kernel_initializer = 'random_normal', activation = 'linear', name = 'layer4'))\n",
    "model.compile(loss = 'mean_absolute_error', optimizer = 'sgd')\n",
    "model.fit(X_train, Y_train, epochs = 30, batch_size = 1)\n",
    "print('точность: ', mae(model.predict(X_test), Y_test))\n",
    "model.summary()"
   ]
  },
  {
   "cell_type": "code",
   "execution_count": 4,
   "metadata": {},
   "outputs": [
    {
     "name": "stdout",
     "output_type": "stream",
     "text": [
      "0 layer1 (None, 5)\n",
      "1 layer2 (None, 20)\n",
      "2 layer3 (None, 12)\n",
      "3 layer4 (None, 1)\n"
     ]
    },
    {
     "name": "stderr",
     "output_type": "stream",
     "text": [
      "D:\\Anaconda3\\lib\\site-packages\\ipykernel_launcher.py:5: UserWarning: Update your `Model` call to the Keras 2 API: `Model(inputs=Tensor(\"la..., outputs=Tensor(\"la...)`\n",
      "  \"\"\"\n"
     ]
    },
    {
     "data": {
      "text/plain": [
       "array([[-0.32237804,  0.15223962,  0.28404945, -0.03054404, -0.27396214,\n",
       "         0.20735724, -0.08910358,  0.22887455,  0.1134897 , -0.12192211,\n",
       "        -0.39964908, -0.19414499]], dtype=float32)"
      ]
     },
     "execution_count": 4,
     "metadata": {},
     "output_type": "execute_result"
    }
   ],
   "source": [
    "# значение выхода layer3 для элемента X_test[1]\n",
    "for i, layer in enumerate(model.layers):\n",
    "    print(i, layer.name, layer.output_shape)\n",
    "    \n",
    "mod = Model(input = model.input, output = model.get_layer('layer3').output)\n",
    "mod.predict(X_test[0].reshape((-1, 4)))"
   ]
  },
  {
   "cell_type": "code",
   "execution_count": 19,
   "metadata": {},
   "outputs": [
    {
     "name": "stdout",
     "output_type": "stream",
     "text": [
      "Epoch 1/20\n",
      "1706/1706 [==============================] - 4s - loss: 1.4689 - dense_36_loss: 0.9800 - output_1_loss: 0.9745 - output_2_loss: 0.9826     \n",
      "Epoch 2/20\n",
      "1706/1706 [==============================] - 3s - loss: 1.1821 - dense_36_loss: 0.7705 - output_1_loss: 0.7266 - output_2_loss: 0.9679     \n",
      "Epoch 3/20\n",
      "1706/1706 [==============================] - 4s - loss: 0.7918 - dense_36_loss: 0.4422 - output_1_loss: 0.5594 - output_2_loss: 0.9091     \n",
      "Epoch 4/20\n",
      "1706/1706 [==============================] - 3s - loss: 0.7697 - dense_36_loss: 0.4258 - output_1_loss: 0.5587 - output_2_loss: 0.8816     \n",
      "Epoch 5/20\n",
      "1706/1706 [==============================] - 3s - loss: 0.7623 - dense_36_loss: 0.4187 - output_1_loss: 0.5572 - output_2_loss: 0.8823     \n",
      "Epoch 6/20\n",
      "1706/1706 [==============================] - 4s - loss: 0.7664 - dense_36_loss: 0.4228 - output_1_loss: 0.5576 - output_2_loss: 0.8817     \n",
      "Epoch 7/20\n",
      "1706/1706 [==============================] - 4s - loss: 0.7610 - dense_36_loss: 0.4183 - output_1_loss: 0.5545 - output_2_loss: 0.8819     \n",
      "Epoch 8/20\n",
      "1706/1706 [==============================] - 4s - loss: 0.7672 - dense_36_loss: 0.4237 - output_1_loss: 0.5574 - output_2_loss: 0.8812     \n",
      "Epoch 9/20\n",
      "1706/1706 [==============================] - 4s - loss: 0.7640 - dense_36_loss: 0.4221 - output_1_loss: 0.5522 - output_2_loss: 0.8814     \n",
      "Epoch 10/20\n",
      "1706/1706 [==============================] - 3s - loss: 0.7712 - dense_36_loss: 0.4271 - output_1_loss: 0.5596 - output_2_loss: 0.8813     \n",
      "Epoch 11/20\n",
      "1706/1706 [==============================] - 3s - loss: 0.7723 - dense_36_loss: 0.4285 - output_1_loss: 0.5572 - output_2_loss: 0.8834     \n",
      "Epoch 12/20\n",
      "1706/1706 [==============================] - 3s - loss: 0.7806 - dense_36_loss: 0.4383 - output_1_loss: 0.5526 - output_2_loss: 0.8829     \n",
      "Epoch 13/20\n",
      "1706/1706 [==============================] - 3s - loss: 0.7930 - dense_36_loss: 0.4487 - output_1_loss: 0.5593 - output_2_loss: 0.8826     \n",
      "Epoch 14/20\n",
      "1706/1706 [==============================] - 3s - loss: 0.8050 - dense_36_loss: 0.4597 - output_1_loss: 0.5631 - output_2_loss: 0.8817     \n",
      "Epoch 15/20\n",
      "1706/1706 [==============================] - 3s - loss: 0.8565 - dense_36_loss: 0.5106 - output_1_loss: 0.5640 - output_2_loss: 0.8837     \n",
      "Epoch 16/20\n",
      "1706/1706 [==============================] - 3s - loss: 0.8830 - dense_36_loss: 0.5389 - output_1_loss: 0.5590 - output_2_loss: 0.8818     \n",
      "Epoch 17/20\n",
      "1706/1706 [==============================] - 3s - loss: 1.0135 - dense_36_loss: 0.6697 - output_1_loss: 0.5582 - output_2_loss: 0.8818     \n",
      "Epoch 18/20\n",
      "1706/1706 [==============================] - 4s - loss: 0.9622 - dense_36_loss: 0.6165 - output_1_loss: 0.5637 - output_2_loss: 0.8830     \n",
      "Epoch 19/20\n",
      "1706/1706 [==============================] - 3s - loss: 0.9003 - dense_36_loss: 0.5561 - output_1_loss: 0.5589 - output_2_loss: 0.8827     \n",
      "Epoch 20/20\n",
      "1706/1706 [==============================] - 3s - loss: 0.9101 - dense_36_loss: 0.5696 - output_1_loss: 0.5478 - output_2_loss: 0.8811     \n",
      "точность:  0.92184769954\n"
     ]
    }
   ],
   "source": [
    "#модель с 2-мя входами 3-мя выходами\n",
    "\n",
    "from keras.layers import Input, concatenate\n",
    "from keras.models import Model\n",
    "\n",
    "input_1 = Input(shape = (2, ) , dtype = 'float32', name='input_1')\n",
    "layer_1 = Dense(3, kernel_initializer = 'random_normal', activation = 'relu')(input_1)\n",
    "layer_1 = Dense(20,  kernel_initializer = 'random_normal', activation = 'linear')(layer_1)\n",
    "output_1 = Dense(1, activation='linear', name = 'output_1')(layer_1)\n",
    "\n",
    "\n",
    "input_2 = Input(shape = (2, ), dtype = 'float32', name = 'input_2')\n",
    "layer_2 = Dense(3, kernel_initializer = 'random_normal', activation = 'relu')(input_2)\n",
    "layer_2 = Dense(20,  kernel_initializer = 'random_normal', activation = 'linear')(layer_2)\n",
    "output_2 = Dense(1, activation='linear', name = 'output_2')(layer_2)\n",
    "\n",
    "x = concatenate([layer_1, layer_2])\n",
    "x = Dense(15, activation='linear')(x)\n",
    "x = Dense(1,  kernel_initializer = 'random_normal', activation = 'linear')(x)\n",
    "\n",
    "model = Model(inputs=[input_1, input_2], outputs = [x, output_1, output_2])\n",
    "\n",
    "model.compile(loss = 'mean_absolute_error', optimizer = 'sgd', loss_weights=[1., .3, .2])\n",
    "\n",
    "model.fit([X_train[:, [0, 2]], X_train[:, [1, 3]]], [Y_train, Y_train, Y_train], epochs = 20, batch_size = 1)\n",
    "\n",
    "print('точность: ', mae(np.array(model.predict([X_test[:, [0, 2]], X_test[:, [1, 3]]]))[2], Y_test))"
   ]
  },
  {
   "cell_type": "code",
   "execution_count": 14,
   "metadata": {},
   "outputs": [
    {
     "name": "stdout",
     "output_type": "stream",
     "text": [
      "Epoch 1/20\n",
      "1706/1706 [==============================] - 13s - loss: 0.9854    \n",
      "Epoch 2/20\n",
      "1706/1706 [==============================] - 12s - loss: 0.9736    \n",
      "Epoch 3/20\n",
      "1706/1706 [==============================] - 12s - loss: 0.9728    \n",
      "Epoch 4/20\n",
      "1706/1706 [==============================] - 12s - loss: 0.9645    \n",
      "Epoch 5/20\n",
      "1706/1706 [==============================] - 13s - loss: 0.7511    \n",
      "Epoch 6/20\n",
      "1706/1706 [==============================] - 13s - loss: 0.5515    \n",
      "Epoch 7/20\n",
      "1706/1706 [==============================] - 13s - loss: 0.5207    \n",
      "Epoch 8/20\n",
      "1706/1706 [==============================] - 13s - loss: 0.5041    \n",
      "Epoch 9/20\n",
      "1706/1706 [==============================] - 13s - loss: 0.4878    \n",
      "Epoch 10/20\n",
      "1706/1706 [==============================] - 13s - loss: 0.4750    \n",
      "Epoch 11/20\n",
      "1706/1706 [==============================] - 13s - loss: 0.4653    \n",
      "Epoch 12/20\n",
      "1706/1706 [==============================] - 13s - loss: 0.4501    \n",
      "Epoch 13/20\n",
      "1706/1706 [==============================] - 13s - loss: 0.4387    \n",
      "Epoch 14/20\n",
      "1706/1706 [==============================] - 13s - loss: 0.4193    \n",
      "Epoch 15/20\n",
      "1706/1706 [==============================] - 13s - loss: 0.3914    \n",
      "Epoch 16/20\n",
      "1706/1706 [==============================] - 14s - loss: 0.3231    \n",
      "Epoch 17/20\n",
      "1706/1706 [==============================] - 15s - loss: 0.2683    \n",
      "Epoch 18/20\n",
      "1706/1706 [==============================] - 14s - loss: 0.2325    \n",
      "Epoch 19/20\n",
      "1706/1706 [==============================] - 13s - loss: 0.2009    \n",
      "Epoch 20/20\n",
      "1706/1706 [==============================] - 14s - loss: 0.1870    \n",
      "точность:  0.111986244256\n"
     ]
    }
   ],
   "source": [
    "from keras.layers import LSTM\n",
    "X_train = np.reshape(X_train, (len(X_train), 4, 1))\n",
    "X_test = np.reshape(X_test, (len(X_test), 4, 1))\n",
    "model = Sequential()\n",
    "model.add(LSTM(3, input_shape=(X_train.shape[1], X_train.shape[2]), kernel_initializer = 'random_normal'))\n",
    "model.add(Dense(12,  kernel_initializer = 'random_normal', activation = 'linear'))\n",
    "model.add(Dense(1,  kernel_initializer = 'random_normal', activation = 'linear'))\n",
    "model.compile(loss = 'mean_absolute_error', optimizer = 'sgd')\n",
    "model.fit(X_train, Y_train, epochs = 20, batch_size = 1)\n",
    "print('точность: ', mae(model.predict(X_test), Y_test))"
   ]
  },
  {
   "cell_type": "code",
   "execution_count": 49,
   "metadata": {},
   "outputs": [
    {
     "name": "stdout",
     "output_type": "stream",
     "text": [
      "Epoch 1/30\n",
      "1706/1706 [==============================] - 4s - loss: 0.8737     \n",
      "Epoch 2/30\n",
      "1706/1706 [==============================] - 2s - loss: 0.6407     \n",
      "Epoch 3/30\n",
      "1706/1706 [==============================] - 2s - loss: 0.5446     \n",
      "Epoch 4/30\n",
      "1706/1706 [==============================] - 2s - loss: 0.5027     - ETA: 0s - loss: 0.50\n",
      "Epoch 5/30\n",
      "1706/1706 [==============================] - 2s - loss: 0.4916     \n",
      "Epoch 6/30\n",
      "1706/1706 [==============================] - 2s - loss: 0.4780     - ETA: 2s - loss:  - ETA: 1s - l\n",
      "Epoch 7/30\n",
      "1706/1706 [==============================] - 2s - loss: 0.4643     \n",
      "Epoch 8/30\n",
      "1706/1706 [==============================] - 2s - loss: 0.4524     \n",
      "Epoch 9/30\n",
      "1706/1706 [==============================] - 2s - loss: 0.4413     \n",
      "Epoch 10/30\n",
      "1706/1706 [==============================] - 2s - loss: 0.4426     \n",
      "Epoch 11/30\n",
      "1706/1706 [==============================] - 2s - loss: 0.4331     \n",
      "Epoch 12/30\n",
      "1706/1706 [==============================] - 3s - loss: 0.4310     \n",
      "Epoch 13/30\n",
      "1706/1706 [==============================] - 2s - loss: 0.4239     \n",
      "Epoch 14/30\n",
      "1706/1706 [==============================] - 2s - loss: 0.4261     \n",
      "Epoch 15/30\n",
      "1706/1706 [==============================] - 2s - loss: 0.4232     \n",
      "Epoch 16/30\n",
      "1706/1706 [==============================] - 2s - loss: 0.4197     \n",
      "Epoch 17/30\n",
      "1706/1706 [==============================] - 3s - loss: 0.4213     \n",
      "Epoch 18/30\n",
      "1706/1706 [==============================] - 3s - loss: 0.4298     \n",
      "Epoch 19/30\n",
      "1706/1706 [==============================] - 3s - loss: 0.4220     \n",
      "Epoch 20/30\n",
      "1706/1706 [==============================] - 3s - loss: 0.4180     - ETA: 0s - loss: 0.42\n",
      "Epoch 21/30\n",
      "1706/1706 [==============================] - 3s - loss: 0.4134     \n",
      "Epoch 22/30\n",
      "1706/1706 [==============================] - 2s - loss: 0.4170     \n",
      "Epoch 23/30\n",
      "1706/1706 [==============================] - 2s - loss: 0.4157     - ETA: 0s - loss: 0\n",
      "Epoch 24/30\n",
      "1706/1706 [==============================] - 2s - loss: 0.4117     - ETA: 0s - loss: 0.\n",
      "Epoch 25/30\n",
      "1706/1706 [==============================] - 2s - loss: 0.4162     - ETA:\n",
      "Epoch 26/30\n",
      "1706/1706 [==============================] - 2s - loss: 0.4071     \n",
      "Epoch 27/30\n",
      "1706/1706 [==============================] - 2s - loss: 0.4136     \n",
      "Epoch 28/30\n",
      "1706/1706 [==============================] - 2s - loss: 0.4120     \n",
      "Epoch 29/30\n",
      "1706/1706 [==============================] - 3s - loss: 0.4107     \n",
      "Epoch 30/30\n",
      "1706/1706 [==============================] - 3s - loss: 0.4104     \n",
      "точность:  0.444136702001\n"
     ]
    }
   ],
   "source": [
    "from keras.layers import  Conv1D, GlobalMaxPooling1D\n",
    "X_train = X_train.reshape(X_train.shape[0], X_train.shape[1], 1)\n",
    "X_test = X_test.reshape(X_test.shape[0], X_test.shape[1], 1)\n",
    "model = Sequential()\n",
    "model.add(Conv1D(5, kernel_size = 2, activation = 'relu', input_shape = (4, 1), padding = 'same'))\n",
    "model.add(GlobalMaxPooling1D())\n",
    "model.add(Dense(12,  kernel_initializer = 'random_normal', activation = 'linear', name = 'layer3'))\n",
    "model.add(Dense(1,  kernel_initializer = 'random_normal', activation = 'linear', name = 'layer4'))\n",
    "model.compile(loss = 'mean_absolute_error', optimizer = 'sgd')\n",
    "model.fit(X_train, Y_train, epochs = 30, batch_size = 1)\n",
    "print('точность: ', mae(model.predict(X_test), Y_test))"
   ]
  },
  {
   "cell_type": "code",
   "execution_count": null,
   "metadata": {
    "collapsed": true
   },
   "outputs": [],
   "source": []
  }
 ],
 "metadata": {
  "kernelspec": {
   "display_name": "Python 3",
   "language": "python",
   "name": "python3"
  },
  "language_info": {
   "codemirror_mode": {
    "name": "ipython",
    "version": 3
   },
   "file_extension": ".py",
   "mimetype": "text/x-python",
   "name": "python",
   "nbconvert_exporter": "python",
   "pygments_lexer": "ipython3",
   "version": "3.5.3"
  }
 },
 "nbformat": 4,
 "nbformat_minor": 2
}
